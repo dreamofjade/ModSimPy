{
 "cells": [
  {
   "cell_type": "code",
   "execution_count": 2,
   "metadata": {},
   "outputs": [],
   "source": [
    "# Configure Jupyter so figures appear in the notebook\n",
    "%matplotlib inline\n",
    "\n",
    "# Configure Jupyter to display the assigned value after an assignment\n",
    "%config InteractiveShell.ast_node_interactivity='last_expr_or_assign'\n",
    "\n",
    "# import functions from the modsim.py module\n",
    "from modsim import *\n",
    "\n",
    "from pandas import read_html"
   ]
  },
  {
   "cell_type": "code",
   "execution_count": null,
   "metadata": {},
   "outputs": [],
   "source": [
    "def make_system(rateR, rateL, rateE, rateV):\n",
    "    \"\"\"Make a system object for the SIR model.\n",
    "    \n",
    "    rateR: appearance of uninfected lymphocytes\n",
    "    rateL: appearance of latently infected lympocytes\n",
    "    rateE: appearance of actively infected lymphocytes\n",
    "    rateV: appearance of free virions\n",
    "    \n",
    "    returns: System object\n",
    "    \"\"\"\n",
    "    init = State(R= 1000, L=0 , E=0 , V=100)\n",
    "    init /= sum(init)\n",
    "\n",
    "    t0 = 0\n",
    "    t_end = 120 'in days'\n",
    "\n",
    "    return System(init=init, t0=t0, t_end=t_end, \n",
    "                  rateR=rateR, rateL=rateL, rateE=rateE, rateV=rateV)"
   ]
  },
  {
   "cell_type": "code",
   "execution_count": null,
   "metadata": {},
   "outputs": [],
   "source": [
    "def update_func(state, t, system):\n",
    "    \"\"\"Update the SIR model.\n",
    "    \n",
    "    state: State with variables R L E V\n",
    "    t: time step\n",
    "    system: System with alpha beta gamma mu rho theta\n",
    "    returns: State object\n",
    "    \"\"\"\n",
    "    r, l, e, v = state\n",
    "    \n",
    "    gamma= 1.36 'rate at which uninfected cd4 arise'\n",
    "    mu= 0.00136 'hiv independent death rate of uninfected cd4'\n",
    "    tau= 0.2 'proportion of cells activated'\n",
    "    beta=0.00027 'rate of infection of cd4 per virion'\n",
    "    rho=0.1 'proportion of cells becoming latently infected'\n",
    "    alpha=.036 'activation rate of latently infected cells'\n",
    "    theta= 2 'removal of cell free virus'\n",
    "    delta=.33 'death of actively infected cd4'\n",
    "    pi=100 'rate of production of virions by actively infected cells'\n",
    "\n",
    "    rateR= \n",
    "    rateL=\n",
    "    rateE=\n",
    "    rateV=\n",
    "    \n",
    "    r += \n",
    "    l += \n",
    "    e += \n",
    "    v\n",
    "    \n",
    "    return State(R=r, L=l, E=e, V=v)"
   ]
  },
  {
   "cell_type": "code",
   "execution_count": null,
   "metadata": {},
   "outputs": [],
   "source": []
  },
  {
   "cell_type": "code",
   "execution_count": null,
   "metadata": {},
   "outputs": [],
   "source": []
  },
  {
   "cell_type": "code",
   "execution_count": null,
   "metadata": {},
   "outputs": [],
   "source": []
  }
 ],
 "metadata": {
  "kernelspec": {
   "display_name": "Python 3",
   "language": "python",
   "name": "python3"
  },
  "language_info": {
   "codemirror_mode": {
    "name": "ipython",
    "version": 3
   },
   "file_extension": ".py",
   "mimetype": "text/x-python",
   "name": "python",
   "nbconvert_exporter": "python",
   "pygments_lexer": "ipython3",
   "version": "3.6.6"
  }
 },
 "nbformat": 4,
 "nbformat_minor": 2
}
