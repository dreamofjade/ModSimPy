{
 "cells": [
  {
   "cell_type": "markdown",
   "metadata": {},
   "source": [
    "# Question: How hot will my drink be by the time I get to work based on which the temperature outside and the amount of liquid in my thermos?\n",
    "Material: state is liquid system includes conductivity constant of the thermos material, area of contact between conductor and water, thickness of thermos, mass of water, and the conductivity constant of water.\n",
    "\n",
    "Abstract: This model answers the question above. In doing so, I can decide what conditions are best for keeping my drink warm depending on the situation. The model finds that in general, the amount of liquid in the thermos has the largest effect on the final temperature, while the outside temperature has almost no effect. To get keep your drink the hottest by the time you get to work, fill the thermos to the point where there will be a slight air gap between the liquid and the lid. The gap of air will lower the efficiency of heat transfer, but still maximize mass of the drink."
   ]
  },
  {
   "cell_type": "code",
   "execution_count": 1,
   "metadata": {},
   "outputs": [],
   "source": [
    "# import functions from the modsim.py module\n",
    "\n",
    "from modsim import *\n",
    "\n",
    "import math"
   ]
  },
  {
   "cell_type": "code",
   "execution_count": 2,
   "metadata": {},
   "outputs": [],
   "source": [
    "def make_system(k, A, d, c, m, e, temp, dt):\n",
    "    \"\"\"Make a system object for a conductor\n",
    "    \n",
    "    k: thermal conductivity\n",
    "    A: cross sectional area\n",
    "    d: thickness\n",
    "    c: specific heat\n",
    "    m: mass of substance absorbing heat (g)\n",
    "    e: efficiency of heat transfer\n",
    "    temp: temperature outside\n",
    "    dt: time step\n",
    "    \n",
    "    returns: System object\n",
    "    \"\"\"\n",
    "    init = State(liquid=373.15)\n",
    "\n",
    "    t0 = 0\n",
    "    t_end = 1000\n",
    "\n",
    "    return System(init=init, t0=t0, t_end=t_end,\n",
    "                  k=k, A=A, d=d, c=c, m=m, e=e, \n",
    "                  temp=temp, dt=dt)"
   ]
  },
  {
   "cell_type": "code",
   "execution_count": 3,
   "metadata": {},
   "outputs": [],
   "source": [
    "k_plastic=.2\n",
    "A=.05\n",
    "d=.05\n",
    "c=4.816\n",
    "m=500\n",
    "e=.8\n",
    "temp=295\n",
    "dt=10\n",
    "sys = make_system(k_plastic, A, d, c, m, e, temp, dt)"
   ]
  },
  {
   "cell_type": "code",
   "execution_count": 4,
   "metadata": {},
   "outputs": [],
   "source": [
    "def plot_results(system, liquid):\n",
    "    \"\"\"Plot the results of thermal conductivity model\n",
    "    \n",
    "    sugar: TimeSeries\n",
    "    \"\"\"\n",
    "    print(\"TIME STEP: \", system.dt, \"s\")\n",
    "    plot(liquid, '--', label='liquid')\n",
    "    \n",
    "    decorate(xlabel=(\"Time (minutes)\"),\n",
    "             ylabel=(\"Temperature (K)\"),\n",
    "             title=(\"Heating Curve of Liquid in Thermos\"))"
   ]
  },
  {
   "cell_type": "code",
   "execution_count": 5,
   "metadata": {},
   "outputs": [],
   "source": [
    "def run_simulation(system, update_func):\n",
    "    \"\"\"Runs a simulation of the system.\n",
    "        \n",
    "    system: System object\n",
    "    update_func: function that updates state\n",
    "    \n",
    "    returns: TimeFrame\n",
    "    \"\"\"\n",
    "    unpack(system)\n",
    "    \n",
    "    frame = TimeFrame(columns=init.index)\n",
    "    frame.row[t0] = init\n",
    "    \n",
    "    for t in linrange(t0, t_end):\n",
    "        frame.row[t+1] = update_func(frame.row[t], t, system)\n",
    "    \n",
    "    return frame"
   ]
  },
  {
   "cell_type": "markdown",
   "metadata": {},
   "source": [
    "## Euler's Method"
   ]
  },
  {
   "cell_type": "code",
   "execution_count": 6,
   "metadata": {},
   "outputs": [],
   "source": [
    "def update_func(state, t, system):\n",
    "    \"\"\"Update thermal conductivity model\n",
    "    \n",
    "    state: State (liquid)\n",
    "    t: time\n",
    "    system: System object\n",
    "    \n",
    "    returns: State (liquid)\n",
    "    \"\"\"\n",
    "    l = state.liquid\n",
    "    unpack(system)\n",
    "    \n",
    "    dT_conductor = temp - l\n",
    "    \n",
    "    dT_liquid = ((k*A*dT_conductor*dt)/(d*m*c))*e\n",
    "    \n",
    "    l+=dT_liquid\n",
    "    \n",
    "    return State(liquid = l)"
   ]
  },
  {
   "cell_type": "code",
   "execution_count": 7,
   "metadata": {},
   "outputs": [],
   "source": [
    "results = run_simulation(sys, update_func)"
   ]
  },
  {
   "cell_type": "code",
   "execution_count": 8,
   "metadata": {},
   "outputs": [
    {
     "name": "stdout",
     "output_type": "stream",
     "text": [
      "TIME STEP:  10 s\n"
     ]
    },
    {
     "data": {
      "image/png": "[encoded data removed]",
      "text/plain": [
       "<Figure size 432x288 with 1 Axes>"
      ]
     },
     "metadata": {
      "needs_background": "light"
     },
     "output_type": "display_data"
    }
   ],
   "source": [
    "plot_results(sys,results.liquid)"
   ]
  },
  {
   "cell_type": "markdown",
   "metadata": {},
   "source": [
    "Euler's method works as planned and does not behave unexpectedly. Though it works, it takes a large amount of time to get a significant range of data, making sweeping slow. The graph displays the temperature of the drink over time when the outside temperature is 22 degrees Celcius."
   ]
  },
  {
   "cell_type": "markdown",
   "metadata": {},
   "source": [
    "## ODE Solver"
   ]
  },
  {
   "cell_type": "code",
   "execution_count": 9,
   "metadata": {},
   "outputs": [],
   "source": [
    "def slope_func(state, t, system):\n",
    "    \"\"\"Update thermal conductivity model\n",
    "    \n",
    "    state: State (liquid)\n",
    "    t: time\n",
    "    system: System object\n",
    "    \n",
    "    returns: State (liquid)\n",
    "    \"\"\"\n",
    "    \n",
    "    unpack(system)\n",
    "    \n",
    "    l = state\n",
    "    outside = 295.15\n",
    "    \n",
    "    dT_conductor = outside - l\n",
    "    \n",
    "    dt = 10\n",
    "    \n",
    "    dT_liquid = ((k*A*dT_conductor*dt)/(d*m*c))*e\n",
    "    \n",
    "    return State(dT_liquid=dT_liquid)"
   ]
  },
  {
   "cell_type": "code",
   "execution_count": 10,
   "metadata": {},
   "outputs": [
    {
     "data": {
      "text/html": [
       "<div>\n",
       "<style scoped>\n",
       "    .dataframe tbody tr th:only-of-type {\n",
       "        vertical-align: middle;\n",
       "    }\n",
       "\n",
       "    .dataframe tbody tr th {\n",
       "        vertical-align: top;\n",
       "    }\n",
       "\n",
       "    .dataframe thead th {\n",
       "        text-align: right;\n",
       "    }\n",
       "</style>\n",
       "<table border=\"1\" class=\"dataframe\">\n",
       "  <thead>\n",
       "    <tr style=\"text-align: right;\">\n",
       "      <th></th>\n",
       "      <th>values</th>\n",
       "    </tr>\n",
       "  </thead>\n",
       "  <tbody>\n",
       "    <tr>\n",
       "      <th>sol</th>\n",
       "      <td>None</td>\n",
       "    </tr>\n",
       "    <tr>\n",
       "      <th>t_events</th>\n",
       "      <td>[]</td>\n",
       "    </tr>\n",
       "    <tr>\n",
       "      <th>nfev</th>\n",
       "      <td>32</td>\n",
       "    </tr>\n",
       "    <tr>\n",
       "      <th>njev</th>\n",
       "      <td>0</td>\n",
       "    </tr>\n",
       "    <tr>\n",
       "      <th>nlu</th>\n",
       "      <td>0</td>\n",
       "    </tr>\n",
       "    <tr>\n",
       "      <th>status</th>\n",
       "      <td>0</td>\n",
       "    </tr>\n",
       "    <tr>\n",
       "      <th>message</th>\n",
       "      <td>The solver successfully reached the end of the...</td>\n",
       "    </tr>\n",
       "    <tr>\n",
       "      <th>success</th>\n",
       "      <td>True</td>\n",
       "    </tr>\n",
       "  </tbody>\n",
       "</table>\n",
       "</div>"
      ],
      "text/plain": [
       "sol                                                      None\n",
       "t_events                                                   []\n",
       "nfev                                                       32\n",
       "njev                                                        0\n",
       "nlu                                                         0\n",
       "status                                                      0\n",
       "message     The solver successfully reached the end of the...\n",
       "success                                                  True\n",
       "dtype: object"
      ]
     },
     "execution_count": 10,
     "metadata": {},
     "output_type": "execute_result"
    }
   ],
   "source": [
    "results, details = run_ode_solver(sys, slope_func)\n",
    "details"
   ]
  },
  {
   "cell_type": "code",
   "execution_count": 11,
   "metadata": {},
   "outputs": [
    {
     "name": "stdout",
     "output_type": "stream",
     "text": [
      "TIME STEP:  10 s\n"
     ]
    },
    {
     "data": {
      "image/png": "[encoded data removed]",
      "text/plain": [
       "<Figure size 432x288 with 1 Axes>"
      ]
     },
     "metadata": {
      "needs_background": "light"
     },
     "output_type": "display_data"
    }
   ],
   "source": [
    "results.plot()\n",
    "\n",
    "print(\"TIME STEP: \", sys.dt, \"s\")\n",
    "decorate(xlabel=(\"Time (minutes)\"),\n",
    "             ylabel=(\"Temperature (K)\"),\n",
    "             title=(\"Heating Curve of Liquid in Thermos\"))"
   ]
  },
  {
   "cell_type": "code",
   "execution_count": 12,
   "metadata": {},
   "outputs": [
    {
     "data": {
      "text/html": [
       "<div>\n",
       "<style scoped>\n",
       "    .dataframe tbody tr th:only-of-type {\n",
       "        vertical-align: middle;\n",
       "    }\n",
       "\n",
       "    .dataframe tbody tr th {\n",
       "        vertical-align: top;\n",
       "    }\n",
       "\n",
       "    .dataframe thead th {\n",
       "        text-align: right;\n",
       "    }\n",
       "</style>\n",
       "<table border=\"1\" class=\"dataframe\">\n",
       "  <thead>\n",
       "    <tr style=\"text-align: right;\">\n",
       "      <th></th>\n",
       "      <th>values</th>\n",
       "    </tr>\n",
       "  </thead>\n",
       "  <tbody>\n",
       "    <tr>\n",
       "      <th>sol</th>\n",
       "      <td>None</td>\n",
       "    </tr>\n",
       "    <tr>\n",
       "      <th>t_events</th>\n",
       "      <td>[]</td>\n",
       "    </tr>\n",
       "    <tr>\n",
       "      <th>nfev</th>\n",
       "      <td>614</td>\n",
       "    </tr>\n",
       "    <tr>\n",
       "      <th>njev</th>\n",
       "      <td>0</td>\n",
       "    </tr>\n",
       "    <tr>\n",
       "      <th>nlu</th>\n",
       "      <td>0</td>\n",
       "    </tr>\n",
       "    <tr>\n",
       "      <th>status</th>\n",
       "      <td>0</td>\n",
       "    </tr>\n",
       "    <tr>\n",
       "      <th>message</th>\n",
       "      <td>The solver successfully reached the end of the...</td>\n",
       "    </tr>\n",
       "    <tr>\n",
       "      <th>success</th>\n",
       "      <td>True</td>\n",
       "    </tr>\n",
       "  </tbody>\n",
       "</table>\n",
       "</div>"
      ],
      "text/plain": [
       "sol                                                      None\n",
       "t_events                                                   []\n",
       "nfev                                                      614\n",
       "njev                                                        0\n",
       "nlu                                                         0\n",
       "status                                                      0\n",
       "message     The solver successfully reached the end of the...\n",
       "success                                                  True\n",
       "dtype: object"
      ]
     },
     "execution_count": 12,
     "metadata": {},
     "output_type": "execute_result"
    }
   ],
   "source": [
    "results, details = run_ode_solver(sys, slope_func, max_step=10)\n",
    "details"
   ]
  },
  {
   "cell_type": "code",
   "execution_count": 13,
   "metadata": {},
   "outputs": [
    {
     "name": "stdout",
     "output_type": "stream",
     "text": [
      "TIME STEP:  10 s\n"
     ]
    },
    {
     "data": {
      "image/png": "[encoded data removed]",
      "text/plain": [
       "<Figure size 432x288 with 1 Axes>"
      ]
     },
     "metadata": {
      "needs_background": "light"
     },
     "output_type": "display_data"
    }
   ],
   "source": [
    "results.plot()\n",
    "print(\"TIME STEP: \", sys.dt, \"s\")\n",
    "decorate(xlabel=(\"Time (minutes)\"),\n",
    "             ylabel=(\"Temperature (K)\"),\n",
    "             title=(\"Heating Curve of Liquid in Thermos\"))"
   ]
  },
  {
   "cell_type": "markdown",
   "metadata": {},
   "source": [
    "The ODE solver does all that it needs to, and does so more efficiently than Euler's method. The graph displays the temperature of the drink over time when the outside temperature is 22 degrees Celcius."
   ]
  },
  {
   "cell_type": "markdown",
   "metadata": {},
   "source": [
    "## Sweeping Parameters"
   ]
  },
  {
   "cell_type": "code",
   "execution_count": 14,
   "metadata": {},
   "outputs": [],
   "source": [
    "def temp_at(time, results):\n",
    "    \"\"\"Find the temperature at time (time)\n",
    "    \n",
    "    time: time in results\n",
    "    results: timeseries\n",
    "    \n",
    "    returns: integer value of temperature at that time\n",
    "    \"\"\"\n",
    "    return results.row[time]"
   ]
  },
  {
   "cell_type": "code",
   "execution_count": 15,
   "metadata": {},
   "outputs": [],
   "source": [
    "def sweep_e(k, A, d, c, m, e_array, temp, dt, time, update_func):\n",
    "    \"\"\"Sweep a range of values for efficiency.\n",
    "    \n",
    "    k: thermal conductivity\n",
    "    A: cross sectional area\n",
    "    d: thickness\n",
    "    c: specific heat\n",
    "    m: mass of substance absorbing heat\n",
    "    e_array: array of efficiency of heat transfer\n",
    "    temp: temperature outside\n",
    "    dt: time step\n",
    "    time: temp at time\n",
    "    update_func: update function\n",
    "    \n",
    "    returns: SweepSeries that maps from efficiency to temperature\n",
    "    \"\"\"\n",
    "    sweep = SweepSeries()\n",
    "    for e in e_array:\n",
    "        system = make_system(k, A, d, c, m, e, temp, dt)\n",
    "        results, details = run_ode_solver(system, update_func, max_step=10)\n",
    "        sweep[system.e] = temp_at(time, results)\n",
    "    return sweep"
   ]
  },
  {
   "cell_type": "code",
   "execution_count": 16,
   "metadata": {
    "scrolled": true
   },
   "outputs": [],
   "source": [
    "e_array = linspace(0.1, 1, 10)\n",
    "efficiency = sweep_e(.2, .05, .05, 4.816, 500, e_array, 295, 10, 1000, slope_func)"
   ]
  },
  {
   "cell_type": "code",
   "execution_count": 17,
   "metadata": {},
   "outputs": [
    {
     "data": {
      "image/png": "[encoded data removed]",
      "text/plain": [
       "<Figure size 432x288 with 1 Axes>"
      ]
     },
     "metadata": {
      "needs_background": "light"
     },
     "output_type": "display_data"
    }
   ],
   "source": [
    "plot(efficiency, 'r')\n",
    "\n",
    "decorate(xlabel=(\"Efficiency\"),\n",
    "             ylabel=(\"Temperature (K)\"),\n",
    "             title=(\"Temperature of Liquid in Thermos at Time 2 Hours 45 Minutes vs. Efficiency Constant\"))"
   ]
  },
  {
   "cell_type": "markdown",
   "metadata": {},
   "source": [
    "Sweeping the efficiency value allows for validation of the model against a real world test. As the efficiency of heat transfer increases, the temperature of the liquid at about 2 hours and 45 minutes. If the efficiency of heat transfer can be minimized, the drink will stay hotter longer, and to do so, one might want to leave some room for air in the thermos."
   ]
  },
  {
   "cell_type": "code",
   "execution_count": 18,
   "metadata": {},
   "outputs": [],
   "source": [
    "def sweep_m(k, A, d, c, m_array, e, temp, dt, time, update_func):\n",
    "    \"\"\"Sweep a range of values for mass.\n",
    "    \n",
    "    k: thermal conductivity\n",
    "    A: cross sectional area\n",
    "    d: thickness\n",
    "    c: specific heat\n",
    "    m: mass of substance absorbing heat\n",
    "    e_array: array of efficiency of heat transfer\n",
    "    temp: temperature outside\n",
    "    dt: time step\n",
    "    time: temp at time\n",
    "    update_func: update function\n",
    "    \n",
    "    returns: SweepSeries that maps from liquid's mass to temperature\n",
    "    \"\"\"\n",
    "    sweep = SweepSeries()\n",
    "    for m in m_array:\n",
    "        system = make_system(k, A, d, c, m, e, temp, dt)\n",
    "        results, details = run_ode_solver(system, update_func, max_step=10)\n",
    "        sweep[system.m] = temp_at(time, results)\n",
    "    return sweep"
   ]
  },
  {
   "cell_type": "code",
   "execution_count": 19,
   "metadata": {},
   "outputs": [
    {
     "data": {
      "image/png": "[encoded data removed]",
      "text/plain": [
       "<Figure size 432x288 with 1 Axes>"
      ]
     },
     "metadata": {
      "needs_background": "light"
     },
     "output_type": "display_data"
    }
   ],
   "source": [
    "m_array = linspace(100, 1000, 10)\n",
    "mass = sweep_m(.2, .05, .05, 4.816, m_array, .8, 295, 10, 1000, slope_func)\n",
    "plot(mass, 'r')\n",
    "\n",
    "decorate(xlabel=(\"Mass (g)\"),\n",
    "             ylabel=(\"Temperature (K)\"),\n",
    "             title=(\"Temperature of Liquid in Thermos at Time 2 Hours 45 Minutes vs. Mass of Liquid\"))"
   ]
  },
  {
   "cell_type": "markdown",
   "metadata": {},
   "source": [
    "Sweeping the mass value demonstrates that more liquid in the container results in a greater temperature after 2 hours and 45 minutes. Thus, having more of a given drink in a thermos will better preserve the temperature of the drink"
   ]
  },
  {
   "cell_type": "code",
   "execution_count": 20,
   "metadata": {},
   "outputs": [],
   "source": [
    "def sweep_temp(k, A, d, c, m, e, temp_array, dt, time, update_func):\n",
    "    \"\"\"Sweep a range of values for outside temperature.\n",
    "    \n",
    "    k: thermal conductivity\n",
    "    A: cross sectional area\n",
    "    d: thickness\n",
    "    c: specific heat\n",
    "    m: mass of substance absorbing heat\n",
    "    e_array: array of efficiency of heat transfer\n",
    "    temp: temperature outside\n",
    "    dt: time step\n",
    "    time: temp at time\n",
    "    update_func: update function\n",
    "    \n",
    "    returns: SweepSeries that maps from liquid's temperature to outside temperature\n",
    "    \"\"\"\n",
    "    sweep = SweepSeries()\n",
    "    for temp in temp_array:\n",
    "        system = make_system(k, A, d, c, m, e, temp, dt)\n",
    "        results, details = run_ode_solver(system, update_func, max_step=10)\n",
    "        sweep[system.temp] = temp_at(time, results)\n",
    "    return sweep"
   ]
  },
  {
   "cell_type": "code",
   "execution_count": 21,
   "metadata": {},
   "outputs": [
    {
     "data": {
      "image/png": "[encoded data removed]",
      "text/plain": [
       "<Figure size 432x288 with 1 Axes>"
      ]
     },
     "metadata": {
      "needs_background": "light"
     },
     "output_type": "display_data"
    }
   ],
   "source": [
    "temp_array = linspace(273, 315, 10)\n",
    "temperature = sweep_temp(.2, .05, .05, 4.816, 500, .8, temp_array, 10, 1000, slope_func)\n",
    "plot(temperature, 'r')\n",
    "\n",
    "decorate(xlabel=(\"Outside Temperature (K)\"),\n",
    "             ylabel=(\"Temperature (K)\"),\n",
    "             title=(\"Temperature of Liquid in Thermos at Time 2 Hours 45 Minutes vs. Temperature outside\"))"
   ]
  },
  {
   "cell_type": "markdown",
   "metadata": {},
   "source": [
    "Sweeping a range of outside temperatures reveals that the outside temperature has no effect on the temperature of the drink after 2 hours and 45 minutes."
   ]
  },
  {
   "cell_type": "markdown",
   "metadata": {},
   "source": [
    "## Interpretations\n",
    "My drink will be the hottest if the efficiency of heat transfer between the lid and the liquid can be minimized, while still having as much liquid in the thermos as possible. Knowing this, I can keep my drink as warm as possible by the time I get to work."
   ]
  },
  {
   "cell_type": "markdown",
   "metadata": {},
   "source": [
    "## Verification"
   ]
  },
  {
   "cell_type": "markdown",
   "metadata": {},
   "source": [
    "We put boiling water into a Hydroflask brand thermos and measured its temperature to be 370 degrees Kelvin. We closed the thermos and left it in a cool, dry place inside, with a room temperature of about 295.15 degrees Kelvin. After 8 hours, the water inside the thermos measured 346.15 degrees Kelvin. With our measurements, there is a 23.85 degree change in temperature after 8 hours, or 480 minutes, which is similar to what we predicted with our model. "
   ]
  },
  {
   "cell_type": "code",
   "execution_count": null,
   "metadata": {},
   "outputs": [],
   "source": []
  },
  {
   "cell_type": "code",
   "execution_count": null,
   "metadata": {},
   "outputs": [],
   "source": []
  }
 ],
 "metadata": {
  "kernelspec": {
   "display_name": "Python 3",
   "language": "python",
   "name": "python3"
  },
  "language_info": {
   "codemirror_mode": {
    "name": "ipython",
    "version": 3
   },
   "file_extension": ".py",
   "mimetype": "text/x-python",
   "name": "python",
   "nbconvert_exporter": "python",
   "pygments_lexer": "ipython3",
   "version": "3.6.6"
  }
 },
 "nbformat": 4,
 "nbformat_minor": 2
}
